{
 "cells": [
  {
   "cell_type": "markdown",
   "metadata": {},
   "source": [
    "# Trabajo de métodos numéricos"
   ]
  },
  {
   "cell_type": "markdown",
   "metadata": {},
   "source": [
    "## Simulación de calentamiento del cobre"
   ]
  },
  {
   "cell_type": "code",
   "execution_count": 1,
   "metadata": {},
   "outputs": [],
   "source": [
    "import numpy as np\n",
    "import matplotlib.pyplot as plt\n",
    "import seaborn as sns\n",
    "\n",
    "T = np.zeros((100,100))\n",
    "T.fill(100)\n",
    "\n",
    "T_inf = 100\n",
    "k = 401 #W/mK\n",
    "rho = 8933 #kg/m3\n",
    "Cp = 385 #J/kgk\n",
    "l = 0.001 #m\n",
    "dt = 0.0021#s\n",
    "alpha = k/(rho*Cp)\n",
    "tau = alpha*dt/(l**2)\n",
    "h = 25 #W/m2K\n",
    "Bi = h*l/k\n",
    "\n",
    "#Condiciones iniciales 100C\n",
    "for i in range(20,100):\n",
    "    for j in range(15,36):\n",
    "        T[i, j] = 20\n",
    "for i in range(50,70):\n",
    "    for j in range(35,66):\n",
    "        T[i, j] = 20\n",
    "for i in range(20,100):\n",
    "    for j in range(65,86):\n",
    "        T[i, j] = 20\n",
    "\n",
    "it = int(150000)   \n",
    "time_C_H = np.zeros(it)\n",
    "Temp_C_H = np.zeros(it)\n",
    "\n",
    "for t in range(it):\n",
    "    \n",
    "    mean = np.mean(T[50:71 , 36:65])\n",
    "    time_C_H[t] = t*dt\n",
    "    Temp_C_H[t] = mean\n",
    "    \n",
    "    \n",
    "    #Columna 1      \n",
    "    for i in range(20,100):\n",
    "        for j in range(15,36):\n",
    "            #Nodo 1\n",
    "            if i == 20 and j == 15:\n",
    "                T[i,j] = T[i,j]*(1-tau*(4+6*Bi)) + 2*tau*(T[i,j+1] + T[i+1,j] + 3*Bi*T_inf)\n",
    "            elif (i == 20 and j == 35):\n",
    "                T[i,j] = T[i,j]*(1-tau*(4+6*Bi)) + 2*tau*(T[i,j-1] + T[i+1,j] + 3*Bi*T_inf)\n",
    "            #Nodo 2\n",
    "            elif i == 20 and (15 < j < 35):\n",
    "                T[i,j] = T[i,j]*(1-tau*(4+4*Bi)) + tau*(T[i,j-1] + T[i,j+1] + 2*T[i+1,j] + 4*Bi*T_inf)\n",
    "            elif 20 < i < 99 and j == 15:\n",
    "                T[i,j] = T[i,j]*(1-tau*(4+4*Bi)) + tau*(T[i+1,j] + T[i-1,j] + 2*T[i,j+1] + 4*Bi*T_inf)\n",
    "            elif (20 < i < 50 or 70 < i < 99) and j == 35:\n",
    "                T[i,j] = T[i,j]*(1-tau*(4+4*Bi)) + tau*(T[i+1,j] + T[i-1,j] + 2*T[i,j-1] + 4*Bi*T_inf)\n",
    "            #Nodo 3 izquierda\n",
    "            elif i == 50 and j == 35:\n",
    "                T[i,j] = T[i,j]*(1-tau*(4+10/3*Bi)) + tau/3*(4*T[i,j-1] + 2*T[i,j+1] + 4*T[i+1,j] + 2*T[i-1,j] + 10*Bi*T_inf)\n",
    "            elif i == 70 and j == 35:\n",
    "                T[i,j] = T[i,j]*(1-tau*(4+10/3*Bi)) + tau/3*(4*T[i,j-1] + 2*T[i,j+1] + 4*T[i-1,j] + 2*T[i+1,j] + 10*Bi*T_inf)\n",
    "            #Nodo 4\n",
    "            elif i == 99 and j == 15:\n",
    "                T[i,j] = T[i,j]*(1-tau*(4+4*Bi)) + 2*tau*(T[i,j+1] + T[i-1,j] + 2*Bi*T_inf)\n",
    "            elif i == 99 and j == 35:\n",
    "                T[i,j] = T[i,j]*(1-tau*(4+4*Bi)) + 2*tau*(T[i,j-1] + T[i-1,j] + 2*Bi*T_inf)\n",
    "            #Nodo 5\n",
    "            elif i == 99 and (15 < j < 35):\n",
    "                T[i,j] = T[i,j]*(1-tau*(4+2*Bi)) + tau*(T[i,j-1] + T[i,j+1] + 2*T[i-1,j] + 2*Bi*T_inf)\n",
    "            #Nodo 6\n",
    "            elif 20 < i < 99 and 15 < j < 35:\n",
    "                T[i,j] = T[i,j]*(1-tau*(4+2*Bi)) + tau*(T[i,j+1] + T[i,j-1] + T[i+1,j] + T[i-1,j] + 2*Bi*T_inf)\n",
    "            elif 50 < i < 70 and j == 35:\n",
    "                T[i,j] = T[i,j]*(1-tau*(4+2*Bi)) + tau*(T[i,j+1] + T[i,j-1] + T[i+1,j] + T[i-1,j] + 2*Bi*T_inf)\n",
    "            \n",
    "    #Barra horizontal\n",
    "    for i in range(50,71):\n",
    "        for j in range(36,65):\n",
    "            #Nodo 2\n",
    "            if i == 50 and (36 <= j <= 64):\n",
    "                T[i,j] = T[i,j]*(1-tau*(4+4*Bi)) + tau*(T[i,j-1] + T[i,j+1] + 2*T[i+1,j] + 4*Bi*T_inf)\n",
    "            elif i == 70 and (36 <= j <= 64):\n",
    "                T[i,j] = T[i,j]*(1-tau*(4+4*Bi)) + tau*(T[i,j-1] + T[i,j+1] + 2*T[i-1,j] + 4*Bi*T_inf)\n",
    "            #Nodo 6\n",
    "            else:\n",
    "                T[i,j] = T[i,j]*(1-tau*(4+2*Bi)) + tau*(T[i,j+1] + T[i,j-1] + T[i+1,j] + T[i-1,j] + 2*Bi*T_inf)\n",
    "\n",
    "    #Columna 2\n",
    "    for i in range(20,100):\n",
    "        for j in range(65,86):\n",
    "            #Nodo 1\n",
    "            if (i == 20 and j == 65):\n",
    "                T[i,j] = T[i,j]*(1-tau*(4+6*Bi)) + 2*tau*(T[i,j+1]+T[i+1,j]+3*Bi*T_inf)\n",
    "            elif (i == 20 and j == 85):\n",
    "                T[i,j] = T[i,j]*(1-tau*(4+6*Bi)) + 2*tau*(T[i,j-1]+T[i+1,j]+3*Bi*T_inf)\n",
    "            #Nodo 2\n",
    "            elif i == 20 and (65 < j < 85):\n",
    "                T[i,j] = T[i,j]*(1-tau*(4+4*Bi)) + tau*(T[i,j-1] + T[i,j+1] + 2*T[i+1,j] + 4*Bi*T_inf)\n",
    "            elif 20 < i < 99 and j == 85:\n",
    "                T[i,j] = T[i,j]*(1-tau*(4+4*Bi)) + tau*(T[i+1,j] + T[i-1,j] + 2*T[i,j-1] + 4*Bi*T_inf)\n",
    "            elif (20 < i < 50 or 70 < i < 99) and j == 65:\n",
    "                T[i,j] = T[i,j]*(1-tau*(4+4*Bi)) + tau*(T[i+1,j] + T[i-1,j] + 2*T[i,j+1] + 4*Bi*T_inf)\n",
    "            #Nodo 3 derecha\n",
    "            elif i == 50 and j == 65:\n",
    "                T[i,j] = T[i,j]*(1-tau*(4+10/3*Bi)) + tau/3*(4*T[i,j+1] + 2*T[i,j-1] + 4*T[i+1,j] + 2*T[i-1,j] + 10*Bi*T_inf)\n",
    "            elif i == 70 and j == 65:\n",
    "                T[i,j] = T[i,j]*(1-tau*(4+10/3*Bi)) + tau/3*(4*T[i,j+1] + 2*T[i,j-1] + 4*T[i-1,j] + 2*T[i+1,j] + 10*Bi*T_inf)\n",
    "            #Nodo 4\n",
    "            elif i == 99 and j == 65:\n",
    "                T[i,j] = T[i,j]*(1-tau*(4+4*Bi)) + 2*tau*(T[i,j+1] + T[i-1,j] + 2*Bi*T_inf)\n",
    "            elif i == 99 and j == 85:\n",
    "                T[i,j] = T[i,j]*(1-tau*(4+4*Bi)) + 2*tau*(T[i,j-1] + T[i-1,j] + 2*Bi*T_inf)\n",
    "            #Nodo 5\n",
    "            elif i == 99 and (65 < j < 85):\n",
    "                T[i,j] = T[i,j]*(1-tau*(4+2*Bi)) + tau*(T[i,j-1] + T[i,j+1] + 2*T[i-1,j] + 2*Bi*T_inf)\n",
    "            #Nodo 6\n",
    "            elif 20 < i < 99 and 65 < j < 85:\n",
    "                T[i,j] = T[i,j]*(1-tau*(4+2*Bi)) + tau*(T[i,j+1] + T[i,j-1] + T[i+1,j] + T[i-1,j] + 2*Bi*T_inf)\n",
    "            elif 50 < i < 70 and j == 65:\n",
    "                T[i,j] = T[i,j]*(1-tau*(4+2*Bi)) + tau*(T[i,j+1] + T[i,j-1] + T[i+1,j] + T[i-1,j] + 2*Bi*T_inf)\n",
    "\n",
    "#plt.imshow(T, cmap='hot', interpolation='nearest')\n",
    "#plt.show()\n",
    "\n",
    "#ax = sns.heatmap(T)\n",
    "#plt.show()\n",
    "\n",
    "#plt.imshow(T, cmap='viridis')\n",
    "#plt.show()\n",
    "#plt.colorbar()\n"
   ]
  },
  {
   "cell_type": "code",
   "execution_count": 2,
   "metadata": {},
   "outputs": [
    {
     "data": {
      "image/png": "[encoded data removed]",
      "text/plain": [
       "<Figure size 432x288 with 2 Axes>"
      ]
     },
     "metadata": {
      "needs_background": "light"
     },
     "output_type": "display_data"
    }
   ],
   "source": [
    "g = sns.heatmap(T, cmap='coolwarm');\n",
    "g.set(yticklabels=[])\n",
    "g.set(xticklabels=[])\n",
    "plt.savefig('simulation_copper_heating.png')"
   ]
  },
  {
   "cell_type": "code",
   "execution_count": 3,
   "metadata": {},
   "outputs": [
    {
     "data": {
      "image/png": "[encoded data removed]",
      "text/plain": [
       "<Figure size 432x288 with 1 Axes>"
      ]
     },
     "metadata": {
      "needs_background": "light"
     },
     "output_type": "display_data"
    }
   ],
   "source": [
    "\n",
    "plt.figure().suptitle('Calentamiendo aleta de cobre')\n",
    "plt.plot(time_C_H, Temp_C_H)\n",
    "plt.xlabel('Tiempo [s]')\n",
    "plt.ylabel('Temperatura [C]')\n",
    "plt.savefig('Temp_vs_time_copper_heating.png')"
   ]
  },
  {
   "cell_type": "code",
   "execution_count": null,
   "metadata": {},
   "outputs": [],
   "source": []
  },
  {
   "cell_type": "markdown",
   "metadata": {},
   "source": [
    "## Enfriamiento de aleta de cobre"
   ]
  },
  {
   "cell_type": "code",
   "execution_count": 6,
   "metadata": {},
   "outputs": [],
   "source": [
    "import numpy as np\n",
    "import matplotlib.pyplot as plt\n",
    "import seaborn as sns\n",
    "\n",
    "T = np.zeros((100,100))\n",
    "T.fill(20)\n",
    "\n",
    "T_inf = 20\n",
    "k = 401 #W/mK\n",
    "rho = 8933 #kg/m3\n",
    "Cp = 385 #J/kgk\n",
    "l = 0.001 #m\n",
    "dt = 0.0021#s\n",
    "alpha = k/(rho*Cp)\n",
    "tau = alpha*dt/(l**2)\n",
    "h = 25 #W/m2K\n",
    "Bi = h*l/k\n",
    "\n",
    "#Condiciones iniciales 100C\n",
    "for i in range(20,100):\n",
    "    for j in range(15,36):\n",
    "        T[i, j] = 100\n",
    "for i in range(50,70):\n",
    "    for j in range(35,66):\n",
    "        T[i, j] = 100\n",
    "for i in range(20,100):\n",
    "    for j in range(65,86):\n",
    "        T[i, j] = 100\n",
    "\n",
    "it = int(150000)   \n",
    "time_C_C = np.zeros(it)\n",
    "Temp_C_C = np.zeros(it)\n",
    "\n",
    "for t in range(it):\n",
    "    \n",
    "    mean = np.mean(T[50:71 , 36:65])\n",
    "    time_C_C[t] = t*dt\n",
    "    Temp_C_C[t] = mean\n",
    "    \n",
    "    \n",
    "    #Columna 1      \n",
    "    for i in range(20,100):\n",
    "        for j in range(15,36):\n",
    "            #Nodo 1\n",
    "            if i == 20 and j == 15:\n",
    "                T[i,j] = T[i,j]*(1-tau*(4+6*Bi)) + 2*tau*(T[i,j+1] + T[i+1,j] + 3*Bi*T_inf)\n",
    "            elif (i == 20 and j == 35):\n",
    "                T[i,j] = T[i,j]*(1-tau*(4+6*Bi)) + 2*tau*(T[i,j-1] + T[i+1,j] + 3*Bi*T_inf)\n",
    "            #Nodo 2\n",
    "            elif i == 20 and (15 < j < 35):\n",
    "                T[i,j] = T[i,j]*(1-tau*(4+4*Bi)) + tau*(T[i,j-1] + T[i,j+1] + 2*T[i+1,j] + 4*Bi*T_inf)\n",
    "            elif 20 < i < 99 and j == 15:\n",
    "                T[i,j] = T[i,j]*(1-tau*(4+4*Bi)) + tau*(T[i+1,j] + T[i-1,j] + 2*T[i,j+1] + 4*Bi*T_inf)\n",
    "            elif (20 < i < 50 or 70 < i < 99) and j == 35:\n",
    "                T[i,j] = T[i,j]*(1-tau*(4+4*Bi)) + tau*(T[i+1,j] + T[i-1,j] + 2*T[i,j-1] + 4*Bi*T_inf)\n",
    "            #Nodo 3 izquierda\n",
    "            elif i == 50 and j == 35:\n",
    "                T[i,j] = T[i,j]*(1-tau*(4+10/3*Bi)) + tau/3*(4*T[i,j-1] + 2*T[i,j+1] + 4*T[i+1,j] + 2*T[i-1,j] + 10*Bi*T_inf)\n",
    "            elif i == 70 and j == 35:\n",
    "                T[i,j] = T[i,j]*(1-tau*(4+10/3*Bi)) + tau/3*(4*T[i,j-1] + 2*T[i,j+1] + 4*T[i-1,j] + 2*T[i+1,j] + 10*Bi*T_inf)\n",
    "            #Nodo 4\n",
    "            elif i == 99 and j == 15:\n",
    "                T[i,j] = T[i,j]*(1-tau*(4+4*Bi)) + 2*tau*(T[i,j+1] + T[i-1,j] + 2*Bi*T_inf)\n",
    "            elif i == 99 and j == 35:\n",
    "                T[i,j] = T[i,j]*(1-tau*(4+4*Bi)) + 2*tau*(T[i,j-1] + T[i-1,j] + 2*Bi*T_inf)\n",
    "            #Nodo 5\n",
    "            elif i == 99 and (15 < j < 35):\n",
    "                T[i,j] = T[i,j]*(1-tau*(4+2*Bi)) + tau*(T[i,j-1] + T[i,j+1] + 2*T[i-1,j] + 2*Bi*T_inf)\n",
    "            #Nodo 6\n",
    "            elif 20 < i < 99 and 15 < j < 35:\n",
    "                T[i,j] = T[i,j]*(1-tau*(4+2*Bi)) + tau*(T[i,j+1] + T[i,j-1] + T[i+1,j] + T[i-1,j] + 2*Bi*T_inf)\n",
    "            elif 50 < i < 70 and j == 35:\n",
    "                T[i,j] = T[i,j]*(1-tau*(4+2*Bi)) + tau*(T[i,j+1] + T[i,j-1] + T[i+1,j] + T[i-1,j] + 2*Bi*T_inf)\n",
    "            \n",
    "    #Barra horizontal\n",
    "    for i in range(50,71):\n",
    "        for j in range(36,65):\n",
    "            #Nodo 2\n",
    "            if i == 50 and (36 <= j <= 64):\n",
    "                T[i,j] = T[i,j]*(1-tau*(4+4*Bi)) + tau*(T[i,j-1] + T[i,j+1] + 2*T[i+1,j] + 4*Bi*T_inf)\n",
    "            elif i == 70 and (36 <= j <= 64):\n",
    "                T[i,j] = T[i,j]*(1-tau*(4+4*Bi)) + tau*(T[i,j-1] + T[i,j+1] + 2*T[i-1,j] + 4*Bi*T_inf)\n",
    "            #Nodo 6\n",
    "            else:\n",
    "                T[i,j] = T[i,j]*(1-tau*(4+2*Bi)) + tau*(T[i,j+1] + T[i,j-1] + T[i+1,j] + T[i-1,j] + 2*Bi*T_inf)\n",
    "\n",
    "    #Columna 2\n",
    "    for i in range(20,100):\n",
    "        for j in range(65,86):\n",
    "            #Nodo 1\n",
    "            if (i == 20 and j == 65):\n",
    "                T[i,j] = T[i,j]*(1-tau*(4+6*Bi)) + 2*tau*(T[i,j+1]+T[i+1,j]+3*Bi*T_inf)\n",
    "            elif (i == 20 and j == 85):\n",
    "                T[i,j] = T[i,j]*(1-tau*(4+6*Bi)) + 2*tau*(T[i,j-1]+T[i+1,j]+3*Bi*T_inf)\n",
    "            #Nodo 2\n",
    "            elif i == 20 and (65 < j < 85):\n",
    "                T[i,j] = T[i,j]*(1-tau*(4+4*Bi)) + tau*(T[i,j-1] + T[i,j+1] + 2*T[i+1,j] + 4*Bi*T_inf)\n",
    "            elif 20 < i < 99 and j == 85:\n",
    "                T[i,j] = T[i,j]*(1-tau*(4+4*Bi)) + tau*(T[i+1,j] + T[i-1,j] + 2*T[i,j-1] + 4*Bi*T_inf)\n",
    "            elif (20 < i < 50 or 70 < i < 99) and j == 65:\n",
    "                T[i,j] = T[i,j]*(1-tau*(4+4*Bi)) + tau*(T[i+1,j] + T[i-1,j] + 2*T[i,j+1] + 4*Bi*T_inf)\n",
    "            #Nodo 3 derecha\n",
    "            elif i == 50 and j == 65:\n",
    "                T[i,j] = T[i,j]*(1-tau*(4+10/3*Bi)) + tau/3*(4*T[i,j+1] + 2*T[i,j-1] + 4*T[i+1,j] + 2*T[i-1,j] + 10*Bi*T_inf)\n",
    "            elif i == 70 and j == 65:\n",
    "                T[i,j] = T[i,j]*(1-tau*(4+10/3*Bi)) + tau/3*(4*T[i,j+1] + 2*T[i,j-1] + 4*T[i-1,j] + 2*T[i+1,j] + 10*Bi*T_inf)\n",
    "            #Nodo 4\n",
    "            elif i == 99 and j == 65:\n",
    "                T[i,j] = T[i,j]*(1-tau*(4+4*Bi)) + 2*tau*(T[i,j+1] + T[i-1,j] + 2*Bi*T_inf)\n",
    "            elif i == 99 and j == 85:\n",
    "                T[i,j] = T[i,j]*(1-tau*(4+4*Bi)) + 2*tau*(T[i,j-1] + T[i-1,j] + 2*Bi*T_inf)\n",
    "            #Nodo 5\n",
    "            elif i == 99 and (65 < j < 85):\n",
    "                T[i,j] = T[i,j]*(1-tau*(4+2*Bi)) + tau*(T[i,j-1] + T[i,j+1] + 2*T[i-1,j] + 2*Bi*T_inf)\n",
    "            #Nodo 6\n",
    "            elif 20 < i < 99 and 65 < j < 85:\n",
    "                T[i,j] = T[i,j]*(1-tau*(4+2*Bi)) + tau*(T[i,j+1] + T[i,j-1] + T[i+1,j] + T[i-1,j] + 2*Bi*T_inf)\n",
    "            elif 50 < i < 70 and j == 65:\n",
    "                T[i,j] = T[i,j]*(1-tau*(4+2*Bi)) + tau*(T[i,j+1] + T[i,j-1] + T[i+1,j] + T[i-1,j] + 2*Bi*T_inf)"
   ]
  },
  {
   "cell_type": "code",
   "execution_count": 8,
   "metadata": {},
   "outputs": [
    {
     "data": {
      "image/png": "[encoded data removed]",
      "text/plain": [
       "<Figure size 432x288 with 2 Axes>"
      ]
     },
     "metadata": {
      "needs_background": "light"
     },
     "output_type": "display_data"
    }
   ],
   "source": [
    "g = sns.heatmap(T, cmap='coolwarm');\n",
    "g.set(yticklabels=[])\n",
    "g.set(xticklabels=[])\n",
    "plt.savefig('simulation_copper_cooling.png')"
   ]
  },
  {
   "cell_type": "code",
   "execution_count": 9,
   "metadata": {},
   "outputs": [
    {
     "data": {
      "image/png": "[encoded data removed]",
      "text/plain": [
       "<Figure size 432x288 with 1 Axes>"
      ]
     },
     "metadata": {
      "needs_background": "light"
     },
     "output_type": "display_data"
    }
   ],
   "source": [
    "plt.figure().suptitle('Enfriamiento aleta de cobre')\n",
    "plt.plot(time_C_C, Temp_C_C)\n",
    "plt.xlabel('Tiempo [s]')\n",
    "plt.ylabel('Temperatura [C]')\n",
    "plt.savefig('Temp_vs_time_copper_cooling.png')"
   ]
  },
  {
   "cell_type": "code",
   "execution_count": null,
   "metadata": {},
   "outputs": [],
   "source": []
  },
  {
   "cell_type": "markdown",
   "metadata": {},
   "source": [
    "## Calentamiento aleta de aluminio"
   ]
  },
  {
   "cell_type": "code",
   "execution_count": 10,
   "metadata": {},
   "outputs": [],
   "source": [
    "import numpy as np\n",
    "import matplotlib.pyplot as plt\n",
    "import seaborn as sns\n",
    "\n",
    "T = np.zeros((100,100))\n",
    "T.fill(100)\n",
    "\n",
    "T_inf = 100\n",
    "k = 237 #W/mK\n",
    "rho = 2702 #kg/m3\n",
    "Cp = 903 #J/kgk\n",
    "l = 0.001 #m\n",
    "dt = 0.0021#s\n",
    "alpha = k/(rho*Cp)\n",
    "tau = alpha*dt/(l**2)\n",
    "h = 25 #W/m2K\n",
    "Bi = h*l/k\n",
    "\n",
    "#Condiciones iniciales 100C\n",
    "for i in range(20,100):\n",
    "    for j in range(15,36):\n",
    "        T[i, j] = 20\n",
    "for i in range(50,70):\n",
    "    for j in range(35,66):\n",
    "        T[i, j] = 20\n",
    "for i in range(20,100):\n",
    "    for j in range(65,86):\n",
    "        T[i, j] = 20\n",
    "\n",
    "it = int(150000)   \n",
    "time_A_H = np.zeros(it)\n",
    "Temp_A_H = np.zeros(it)\n",
    "\n",
    "for t in range(it):\n",
    "    \n",
    "    mean = np.mean(T[50:71 , 36:65])\n",
    "    time_A_H[t] = t*dt\n",
    "    Temp_A_H[t] = mean\n",
    "    \n",
    "    \n",
    "    #Columna 1      \n",
    "    for i in range(20,100):\n",
    "        for j in range(15,36):\n",
    "            #Nodo 1\n",
    "            if i == 20 and j == 15:\n",
    "                T[i,j] = T[i,j]*(1-tau*(4+6*Bi)) + 2*tau*(T[i,j+1] + T[i+1,j] + 3*Bi*T_inf)\n",
    "            elif (i == 20 and j == 35):\n",
    "                T[i,j] = T[i,j]*(1-tau*(4+6*Bi)) + 2*tau*(T[i,j-1] + T[i+1,j] + 3*Bi*T_inf)\n",
    "            #Nodo 2\n",
    "            elif i == 20 and (15 < j < 35):\n",
    "                T[i,j] = T[i,j]*(1-tau*(4+4*Bi)) + tau*(T[i,j-1] + T[i,j+1] + 2*T[i+1,j] + 4*Bi*T_inf)\n",
    "            elif 20 < i < 99 and j == 15:\n",
    "                T[i,j] = T[i,j]*(1-tau*(4+4*Bi)) + tau*(T[i+1,j] + T[i-1,j] + 2*T[i,j+1] + 4*Bi*T_inf)\n",
    "            elif (20 < i < 50 or 70 < i < 99) and j == 35:\n",
    "                T[i,j] = T[i,j]*(1-tau*(4+4*Bi)) + tau*(T[i+1,j] + T[i-1,j] + 2*T[i,j-1] + 4*Bi*T_inf)\n",
    "            #Nodo 3 izquierda\n",
    "            elif i == 50 and j == 35:\n",
    "                T[i,j] = T[i,j]*(1-tau*(4+10/3*Bi)) + tau/3*(4*T[i,j-1] + 2*T[i,j+1] + 4*T[i+1,j] + 2*T[i-1,j] + 10*Bi*T_inf)\n",
    "            elif i == 70 and j == 35:\n",
    "                T[i,j] = T[i,j]*(1-tau*(4+10/3*Bi)) + tau/3*(4*T[i,j-1] + 2*T[i,j+1] + 4*T[i-1,j] + 2*T[i+1,j] + 10*Bi*T_inf)\n",
    "            #Nodo 4\n",
    "            elif i == 99 and j == 15:\n",
    "                T[i,j] = T[i,j]*(1-tau*(4+4*Bi)) + 2*tau*(T[i,j+1] + T[i-1,j] + 2*Bi*T_inf)\n",
    "            elif i == 99 and j == 35:\n",
    "                T[i,j] = T[i,j]*(1-tau*(4+4*Bi)) + 2*tau*(T[i,j-1] + T[i-1,j] + 2*Bi*T_inf)\n",
    "            #Nodo 5\n",
    "            elif i == 99 and (15 < j < 35):\n",
    "                T[i,j] = T[i,j]*(1-tau*(4+2*Bi)) + tau*(T[i,j-1] + T[i,j+1] + 2*T[i-1,j] + 2*Bi*T_inf)\n",
    "            #Nodo 6\n",
    "            elif 20 < i < 99 and 15 < j < 35:\n",
    "                T[i,j] = T[i,j]*(1-tau*(4+2*Bi)) + tau*(T[i,j+1] + T[i,j-1] + T[i+1,j] + T[i-1,j] + 2*Bi*T_inf)\n",
    "            elif 50 < i < 70 and j == 35:\n",
    "                T[i,j] = T[i,j]*(1-tau*(4+2*Bi)) + tau*(T[i,j+1] + T[i,j-1] + T[i+1,j] + T[i-1,j] + 2*Bi*T_inf)\n",
    "            \n",
    "    #Barra horizontal\n",
    "    for i in range(50,71):\n",
    "        for j in range(36,65):\n",
    "            #Nodo 2\n",
    "            if i == 50 and (36 <= j <= 64):\n",
    "                T[i,j] = T[i,j]*(1-tau*(4+4*Bi)) + tau*(T[i,j-1] + T[i,j+1] + 2*T[i+1,j] + 4*Bi*T_inf)\n",
    "            elif i == 70 and (36 <= j <= 64):\n",
    "                T[i,j] = T[i,j]*(1-tau*(4+4*Bi)) + tau*(T[i,j-1] + T[i,j+1] + 2*T[i-1,j] + 4*Bi*T_inf)\n",
    "            #Nodo 6\n",
    "            else:\n",
    "                T[i,j] = T[i,j]*(1-tau*(4+2*Bi)) + tau*(T[i,j+1] + T[i,j-1] + T[i+1,j] + T[i-1,j] + 2*Bi*T_inf)\n",
    "\n",
    "    #Columna 2\n",
    "    for i in range(20,100):\n",
    "        for j in range(65,86):\n",
    "            #Nodo 1\n",
    "            if (i == 20 and j == 65):\n",
    "                T[i,j] = T[i,j]*(1-tau*(4+6*Bi)) + 2*tau*(T[i,j+1]+T[i+1,j]+3*Bi*T_inf)\n",
    "            elif (i == 20 and j == 85):\n",
    "                T[i,j] = T[i,j]*(1-tau*(4+6*Bi)) + 2*tau*(T[i,j-1]+T[i+1,j]+3*Bi*T_inf)\n",
    "            #Nodo 2\n",
    "            elif i == 20 and (65 < j < 85):\n",
    "                T[i,j] = T[i,j]*(1-tau*(4+4*Bi)) + tau*(T[i,j-1] + T[i,j+1] + 2*T[i+1,j] + 4*Bi*T_inf)\n",
    "            elif 20 < i < 99 and j == 85:\n",
    "                T[i,j] = T[i,j]*(1-tau*(4+4*Bi)) + tau*(T[i+1,j] + T[i-1,j] + 2*T[i,j-1] + 4*Bi*T_inf)\n",
    "            elif (20 < i < 50 or 70 < i < 99) and j == 65:\n",
    "                T[i,j] = T[i,j]*(1-tau*(4+4*Bi)) + tau*(T[i+1,j] + T[i-1,j] + 2*T[i,j+1] + 4*Bi*T_inf)\n",
    "            #Nodo 3 derecha\n",
    "            elif i == 50 and j == 65:\n",
    "                T[i,j] = T[i,j]*(1-tau*(4+10/3*Bi)) + tau/3*(4*T[i,j+1] + 2*T[i,j-1] + 4*T[i+1,j] + 2*T[i-1,j] + 10*Bi*T_inf)\n",
    "            elif i == 70 and j == 65:\n",
    "                T[i,j] = T[i,j]*(1-tau*(4+10/3*Bi)) + tau/3*(4*T[i,j+1] + 2*T[i,j-1] + 4*T[i-1,j] + 2*T[i+1,j] + 10*Bi*T_inf)\n",
    "            #Nodo 4\n",
    "            elif i == 99 and j == 65:\n",
    "                T[i,j] = T[i,j]*(1-tau*(4+4*Bi)) + 2*tau*(T[i,j+1] + T[i-1,j] + 2*Bi*T_inf)\n",
    "            elif i == 99 and j == 85:\n",
    "                T[i,j] = T[i,j]*(1-tau*(4+4*Bi)) + 2*tau*(T[i,j-1] + T[i-1,j] + 2*Bi*T_inf)\n",
    "            #Nodo 5\n",
    "            elif i == 99 and (65 < j < 85):\n",
    "                T[i,j] = T[i,j]*(1-tau*(4+2*Bi)) + tau*(T[i,j-1] + T[i,j+1] + 2*T[i-1,j] + 2*Bi*T_inf)\n",
    "            #Nodo 6\n",
    "            elif 20 < i < 99 and 65 < j < 85:\n",
    "                T[i,j] = T[i,j]*(1-tau*(4+2*Bi)) + tau*(T[i,j+1] + T[i,j-1] + T[i+1,j] + T[i-1,j] + 2*Bi*T_inf)\n",
    "            elif 50 < i < 70 and j == 65:\n",
    "                T[i,j] = T[i,j]*(1-tau*(4+2*Bi)) + tau*(T[i,j+1] + T[i,j-1] + T[i+1,j] + T[i-1,j] + 2*Bi*T_inf)"
   ]
  },
  {
   "cell_type": "code",
   "execution_count": 11,
   "metadata": {},
   "outputs": [
    {
     "data": {
      "image/png": "[encoded data removed]",
      "text/plain": [
       "<Figure size 432x288 with 2 Axes>"
      ]
     },
     "metadata": {
      "needs_background": "light"
     },
     "output_type": "display_data"
    }
   ],
   "source": [
    "g = sns.heatmap(T, cmap='coolwarm');\n",
    "g.set(yticklabels=[])\n",
    "g.set(xticklabels=[])\n",
    "plt.savefig('simulation_aluminum_heating.png')"
   ]
  },
  {
   "cell_type": "code",
   "execution_count": 13,
   "metadata": {},
   "outputs": [
    {
     "data": {
      "image/png": "[encoded data removed]",
      "text/plain": [
       "<Figure size 432x288 with 1 Axes>"
      ]
     },
     "metadata": {
      "needs_background": "light"
     },
     "output_type": "display_data"
    }
   ],
   "source": [
    "plt.figure().suptitle('Calentamiento aleta de aluminio')\n",
    "plt.plot(time_A_H, Temp_A_H)\n",
    "plt.xlabel('Tiempo [s]')\n",
    "plt.ylabel('Temperatura [C]')\n",
    "plt.savefig('Temp_vs_time_aluminum_heating.png')"
   ]
  },
  {
   "cell_type": "markdown",
   "metadata": {},
   "source": [
    "## Enfriamiento aleta de aluminio"
   ]
  },
  {
   "cell_type": "code",
   "execution_count": 14,
   "metadata": {},
   "outputs": [],
   "source": [
    "import numpy as np\n",
    "import matplotlib.pyplot as plt\n",
    "import seaborn as sns\n",
    "\n",
    "T = np.zeros((100,100))\n",
    "T.fill(20)\n",
    "\n",
    "T_inf = 20\n",
    "k = 237 #W/mK\n",
    "rho = 2702 #kg/m3\n",
    "Cp = 903 #J/kgk\n",
    "l = 0.001 #m\n",
    "dt = 0.0021#s\n",
    "alpha = k/(rho*Cp)\n",
    "tau = alpha*dt/(l**2)\n",
    "h = 25 #W/m2K\n",
    "Bi = h*l/k\n",
    "\n",
    "#Condiciones iniciales 100C\n",
    "for i in range(20,100):\n",
    "    for j in range(15,36):\n",
    "        T[i, j] = 100\n",
    "for i in range(50,70):\n",
    "    for j in range(35,66):\n",
    "        T[i, j] = 100\n",
    "for i in range(20,100):\n",
    "    for j in range(65,86):\n",
    "        T[i, j] = 100\n",
    "\n",
    "it = int(150000)   \n",
    "time_A_C = np.zeros(it)\n",
    "Temp_A_C = np.zeros(it)\n",
    "\n",
    "for t in range(it):\n",
    "    \n",
    "    mean = np.mean(T[50:71 , 36:65])\n",
    "    time_A_C[t] = t*dt\n",
    "    Temp_A_C[t] = mean\n",
    "    \n",
    "    \n",
    "    #Columna 1      \n",
    "    for i in range(20,100):\n",
    "        for j in range(15,36):\n",
    "            #Nodo 1\n",
    "            if i == 20 and j == 15:\n",
    "                T[i,j] = T[i,j]*(1-tau*(4+6*Bi)) + 2*tau*(T[i,j+1] + T[i+1,j] + 3*Bi*T_inf)\n",
    "            elif (i == 20 and j == 35):\n",
    "                T[i,j] = T[i,j]*(1-tau*(4+6*Bi)) + 2*tau*(T[i,j-1] + T[i+1,j] + 3*Bi*T_inf)\n",
    "            #Nodo 2\n",
    "            elif i == 20 and (15 < j < 35):\n",
    "                T[i,j] = T[i,j]*(1-tau*(4+4*Bi)) + tau*(T[i,j-1] + T[i,j+1] + 2*T[i+1,j] + 4*Bi*T_inf)\n",
    "            elif 20 < i < 99 and j == 15:\n",
    "                T[i,j] = T[i,j]*(1-tau*(4+4*Bi)) + tau*(T[i+1,j] + T[i-1,j] + 2*T[i,j+1] + 4*Bi*T_inf)\n",
    "            elif (20 < i < 50 or 70 < i < 99) and j == 35:\n",
    "                T[i,j] = T[i,j]*(1-tau*(4+4*Bi)) + tau*(T[i+1,j] + T[i-1,j] + 2*T[i,j-1] + 4*Bi*T_inf)\n",
    "            #Nodo 3 izquierda\n",
    "            elif i == 50 and j == 35:\n",
    "                T[i,j] = T[i,j]*(1-tau*(4+10/3*Bi)) + tau/3*(4*T[i,j-1] + 2*T[i,j+1] + 4*T[i+1,j] + 2*T[i-1,j] + 10*Bi*T_inf)\n",
    "            elif i == 70 and j == 35:\n",
    "                T[i,j] = T[i,j]*(1-tau*(4+10/3*Bi)) + tau/3*(4*T[i,j-1] + 2*T[i,j+1] + 4*T[i-1,j] + 2*T[i+1,j] + 10*Bi*T_inf)\n",
    "            #Nodo 4\n",
    "            elif i == 99 and j == 15:\n",
    "                T[i,j] = T[i,j]*(1-tau*(4+4*Bi)) + 2*tau*(T[i,j+1] + T[i-1,j] + 2*Bi*T_inf)\n",
    "            elif i == 99 and j == 35:\n",
    "                T[i,j] = T[i,j]*(1-tau*(4+4*Bi)) + 2*tau*(T[i,j-1] + T[i-1,j] + 2*Bi*T_inf)\n",
    "            #Nodo 5\n",
    "            elif i == 99 and (15 < j < 35):\n",
    "                T[i,j] = T[i,j]*(1-tau*(4+2*Bi)) + tau*(T[i,j-1] + T[i,j+1] + 2*T[i-1,j] + 2*Bi*T_inf)\n",
    "            #Nodo 6\n",
    "            elif 20 < i < 99 and 15 < j < 35:\n",
    "                T[i,j] = T[i,j]*(1-tau*(4+2*Bi)) + tau*(T[i,j+1] + T[i,j-1] + T[i+1,j] + T[i-1,j] + 2*Bi*T_inf)\n",
    "            elif 50 < i < 70 and j == 35:\n",
    "                T[i,j] = T[i,j]*(1-tau*(4+2*Bi)) + tau*(T[i,j+1] + T[i,j-1] + T[i+1,j] + T[i-1,j] + 2*Bi*T_inf)\n",
    "            \n",
    "    #Barra horizontal\n",
    "    for i in range(50,71):\n",
    "        for j in range(36,65):\n",
    "            #Nodo 2\n",
    "            if i == 50 and (36 <= j <= 64):\n",
    "                T[i,j] = T[i,j]*(1-tau*(4+4*Bi)) + tau*(T[i,j-1] + T[i,j+1] + 2*T[i+1,j] + 4*Bi*T_inf)\n",
    "            elif i == 70 and (36 <= j <= 64):\n",
    "                T[i,j] = T[i,j]*(1-tau*(4+4*Bi)) + tau*(T[i,j-1] + T[i,j+1] + 2*T[i-1,j] + 4*Bi*T_inf)\n",
    "            #Nodo 6\n",
    "            else:\n",
    "                T[i,j] = T[i,j]*(1-tau*(4+2*Bi)) + tau*(T[i,j+1] + T[i,j-1] + T[i+1,j] + T[i-1,j] + 2*Bi*T_inf)\n",
    "\n",
    "    #Columna 2\n",
    "    for i in range(20,100):\n",
    "        for j in range(65,86):\n",
    "            #Nodo 1\n",
    "            if (i == 20 and j == 65):\n",
    "                T[i,j] = T[i,j]*(1-tau*(4+6*Bi)) + 2*tau*(T[i,j+1]+T[i+1,j]+3*Bi*T_inf)\n",
    "            elif (i == 20 and j == 85):\n",
    "                T[i,j] = T[i,j]*(1-tau*(4+6*Bi)) + 2*tau*(T[i,j-1]+T[i+1,j]+3*Bi*T_inf)\n",
    "            #Nodo 2\n",
    "            elif i == 20 and (65 < j < 85):\n",
    "                T[i,j] = T[i,j]*(1-tau*(4+4*Bi)) + tau*(T[i,j-1] + T[i,j+1] + 2*T[i+1,j] + 4*Bi*T_inf)\n",
    "            elif 20 < i < 99 and j == 85:\n",
    "                T[i,j] = T[i,j]*(1-tau*(4+4*Bi)) + tau*(T[i+1,j] + T[i-1,j] + 2*T[i,j-1] + 4*Bi*T_inf)\n",
    "            elif (20 < i < 50 or 70 < i < 99) and j == 65:\n",
    "                T[i,j] = T[i,j]*(1-tau*(4+4*Bi)) + tau*(T[i+1,j] + T[i-1,j] + 2*T[i,j+1] + 4*Bi*T_inf)\n",
    "            #Nodo 3 derecha\n",
    "            elif i == 50 and j == 65:\n",
    "                T[i,j] = T[i,j]*(1-tau*(4+10/3*Bi)) + tau/3*(4*T[i,j+1] + 2*T[i,j-1] + 4*T[i+1,j] + 2*T[i-1,j] + 10*Bi*T_inf)\n",
    "            elif i == 70 and j == 65:\n",
    "                T[i,j] = T[i,j]*(1-tau*(4+10/3*Bi)) + tau/3*(4*T[i,j+1] + 2*T[i,j-1] + 4*T[i-1,j] + 2*T[i+1,j] + 10*Bi*T_inf)\n",
    "            #Nodo 4\n",
    "            elif i == 99 and j == 65:\n",
    "                T[i,j] = T[i,j]*(1-tau*(4+4*Bi)) + 2*tau*(T[i,j+1] + T[i-1,j] + 2*Bi*T_inf)\n",
    "            elif i == 99 and j == 85:\n",
    "                T[i,j] = T[i,j]*(1-tau*(4+4*Bi)) + 2*tau*(T[i,j-1] + T[i-1,j] + 2*Bi*T_inf)\n",
    "            #Nodo 5\n",
    "            elif i == 99 and (65 < j < 85):\n",
    "                T[i,j] = T[i,j]*(1-tau*(4+2*Bi)) + tau*(T[i,j-1] + T[i,j+1] + 2*T[i-1,j] + 2*Bi*T_inf)\n",
    "            #Nodo 6\n",
    "            elif 20 < i < 99 and 65 < j < 85:\n",
    "                T[i,j] = T[i,j]*(1-tau*(4+2*Bi)) + tau*(T[i,j+1] + T[i,j-1] + T[i+1,j] + T[i-1,j] + 2*Bi*T_inf)\n",
    "            elif 50 < i < 70 and j == 65:\n",
    "                T[i,j] = T[i,j]*(1-tau*(4+2*Bi)) + tau*(T[i,j+1] + T[i,j-1] + T[i+1,j] + T[i-1,j] + 2*Bi*T_inf)"
   ]
  },
  {
   "cell_type": "code",
   "execution_count": 15,
   "metadata": {},
   "outputs": [
    {
     "data": {
      "image/png": "[encoded data removed]",
      "text/plain": [
       "<Figure size 432x288 with 2 Axes>"
      ]
     },
     "metadata": {
      "needs_background": "light"
     },
     "output_type": "display_data"
    }
   ],
   "source": [
    "g = sns.heatmap(T, cmap='coolwarm');\n",
    "g.set(yticklabels=[])\n",
    "g.set(xticklabels=[])\n",
    "plt.savefig('simulation_aluminum_cooling.png')"
   ]
  },
  {
   "cell_type": "code",
   "execution_count": 16,
   "metadata": {},
   "outputs": [
    {
     "data": {
      "image/png": "[encoded data removed]",
      "text/plain": [
       "<Figure size 432x288 with 1 Axes>"
      ]
     },
     "metadata": {
      "needs_background": "light"
     },
     "output_type": "display_data"
    }
   ],
   "source": [
    "plt.figure().suptitle('Enfriamiento aleta de aluminio')\n",
    "plt.plot(time_A_C, Temp_A_C)\n",
    "plt.xlabel('Tiempo [s]')\n",
    "plt.ylabel('Temperatura [C]')\n",
    "plt.savefig('Temp_vs_time_aluminum_cooling.png')"
   ]
  },
  {
   "cell_type": "markdown",
   "metadata": {},
   "source": [
    "## Calentamiento aleta de acero"
   ]
  },
  {
   "cell_type": "code",
   "execution_count": 17,
   "metadata": {},
   "outputs": [],
   "source": [
    "import numpy as np\n",
    "import matplotlib.pyplot as plt\n",
    "import seaborn as sns\n",
    "\n",
    "T = np.zeros((100,100))\n",
    "T.fill(100)\n",
    "\n",
    "T_inf = 100\n",
    "k = 63.9 #W/mK\n",
    "rho = 7832 #kg/m3\n",
    "Cp = 434 #J/kgk\n",
    "l = 0.001 #m\n",
    "dt = 0.0021#s\n",
    "alpha = k/(rho*Cp)\n",
    "tau = alpha*dt/(l**2)\n",
    "h = 25 #W/m2K\n",
    "Bi = h*l/k\n",
    "\n",
    "#Condiciones iniciales 100C\n",
    "for i in range(20,100):\n",
    "    for j in range(15,36):\n",
    "        T[i, j] = 20\n",
    "for i in range(50,70):\n",
    "    for j in range(35,66):\n",
    "        T[i, j] = 20\n",
    "for i in range(20,100):\n",
    "    for j in range(65,86):\n",
    "        T[i, j] = 20\n",
    "\n",
    "it = int(150000)   \n",
    "time_S_H = np.zeros(it)\n",
    "Temp_S_H = np.zeros(it)\n",
    "\n",
    "for t in range(it):\n",
    "    \n",
    "    mean = np.mean(T[50:71 , 36:65])\n",
    "    time_S_H[t] = t*dt\n",
    "    Temp_S_H[t] = mean\n",
    "    \n",
    "    \n",
    "    #Columna 1      \n",
    "    for i in range(20,100):\n",
    "        for j in range(15,36):\n",
    "            #Nodo 1\n",
    "            if i == 20 and j == 15:\n",
    "                T[i,j] = T[i,j]*(1-tau*(4+6*Bi)) + 2*tau*(T[i,j+1] + T[i+1,j] + 3*Bi*T_inf)\n",
    "            elif (i == 20 and j == 35):\n",
    "                T[i,j] = T[i,j]*(1-tau*(4+6*Bi)) + 2*tau*(T[i,j-1] + T[i+1,j] + 3*Bi*T_inf)\n",
    "            #Nodo 2\n",
    "            elif i == 20 and (15 < j < 35):\n",
    "                T[i,j] = T[i,j]*(1-tau*(4+4*Bi)) + tau*(T[i,j-1] + T[i,j+1] + 2*T[i+1,j] + 4*Bi*T_inf)\n",
    "            elif 20 < i < 99 and j == 15:\n",
    "                T[i,j] = T[i,j]*(1-tau*(4+4*Bi)) + tau*(T[i+1,j] + T[i-1,j] + 2*T[i,j+1] + 4*Bi*T_inf)\n",
    "            elif (20 < i < 50 or 70 < i < 99) and j == 35:\n",
    "                T[i,j] = T[i,j]*(1-tau*(4+4*Bi)) + tau*(T[i+1,j] + T[i-1,j] + 2*T[i,j-1] + 4*Bi*T_inf)\n",
    "            #Nodo 3 izquierda\n",
    "            elif i == 50 and j == 35:\n",
    "                T[i,j] = T[i,j]*(1-tau*(4+10/3*Bi)) + tau/3*(4*T[i,j-1] + 2*T[i,j+1] + 4*T[i+1,j] + 2*T[i-1,j] + 10*Bi*T_inf)\n",
    "            elif i == 70 and j == 35:\n",
    "                T[i,j] = T[i,j]*(1-tau*(4+10/3*Bi)) + tau/3*(4*T[i,j-1] + 2*T[i,j+1] + 4*T[i-1,j] + 2*T[i+1,j] + 10*Bi*T_inf)\n",
    "            #Nodo 4\n",
    "            elif i == 99 and j == 15:\n",
    "                T[i,j] = T[i,j]*(1-tau*(4+4*Bi)) + 2*tau*(T[i,j+1] + T[i-1,j] + 2*Bi*T_inf)\n",
    "            elif i == 99 and j == 35:\n",
    "                T[i,j] = T[i,j]*(1-tau*(4+4*Bi)) + 2*tau*(T[i,j-1] + T[i-1,j] + 2*Bi*T_inf)\n",
    "            #Nodo 5\n",
    "            elif i == 99 and (15 < j < 35):\n",
    "                T[i,j] = T[i,j]*(1-tau*(4+2*Bi)) + tau*(T[i,j-1] + T[i,j+1] + 2*T[i-1,j] + 2*Bi*T_inf)\n",
    "            #Nodo 6\n",
    "            elif 20 < i < 99 and 15 < j < 35:\n",
    "                T[i,j] = T[i,j]*(1-tau*(4+2*Bi)) + tau*(T[i,j+1] + T[i,j-1] + T[i+1,j] + T[i-1,j] + 2*Bi*T_inf)\n",
    "            elif 50 < i < 70 and j == 35:\n",
    "                T[i,j] = T[i,j]*(1-tau*(4+2*Bi)) + tau*(T[i,j+1] + T[i,j-1] + T[i+1,j] + T[i-1,j] + 2*Bi*T_inf)\n",
    "            \n",
    "    #Barra horizontal\n",
    "    for i in range(50,71):\n",
    "        for j in range(36,65):\n",
    "            #Nodo 2\n",
    "            if i == 50 and (36 <= j <= 64):\n",
    "                T[i,j] = T[i,j]*(1-tau*(4+4*Bi)) + tau*(T[i,j-1] + T[i,j+1] + 2*T[i+1,j] + 4*Bi*T_inf)\n",
    "            elif i == 70 and (36 <= j <= 64):\n",
    "                T[i,j] = T[i,j]*(1-tau*(4+4*Bi)) + tau*(T[i,j-1] + T[i,j+1] + 2*T[i-1,j] + 4*Bi*T_inf)\n",
    "            #Nodo 6\n",
    "            else:\n",
    "                T[i,j] = T[i,j]*(1-tau*(4+2*Bi)) + tau*(T[i,j+1] + T[i,j-1] + T[i+1,j] + T[i-1,j] + 2*Bi*T_inf)\n",
    "\n",
    "    #Columna 2\n",
    "    for i in range(20,100):\n",
    "        for j in range(65,86):\n",
    "            #Nodo 1\n",
    "            if (i == 20 and j == 65):\n",
    "                T[i,j] = T[i,j]*(1-tau*(4+6*Bi)) + 2*tau*(T[i,j+1]+T[i+1,j]+3*Bi*T_inf)\n",
    "            elif (i == 20 and j == 85):\n",
    "                T[i,j] = T[i,j]*(1-tau*(4+6*Bi)) + 2*tau*(T[i,j-1]+T[i+1,j]+3*Bi*T_inf)\n",
    "            #Nodo 2\n",
    "            elif i == 20 and (65 < j < 85):\n",
    "                T[i,j] = T[i,j]*(1-tau*(4+4*Bi)) + tau*(T[i,j-1] + T[i,j+1] + 2*T[i+1,j] + 4*Bi*T_inf)\n",
    "            elif 20 < i < 99 and j == 85:\n",
    "                T[i,j] = T[i,j]*(1-tau*(4+4*Bi)) + tau*(T[i+1,j] + T[i-1,j] + 2*T[i,j-1] + 4*Bi*T_inf)\n",
    "            elif (20 < i < 50 or 70 < i < 99) and j == 65:\n",
    "                T[i,j] = T[i,j]*(1-tau*(4+4*Bi)) + tau*(T[i+1,j] + T[i-1,j] + 2*T[i,j+1] + 4*Bi*T_inf)\n",
    "            #Nodo 3 derecha\n",
    "            elif i == 50 and j == 65:\n",
    "                T[i,j] = T[i,j]*(1-tau*(4+10/3*Bi)) + tau/3*(4*T[i,j+1] + 2*T[i,j-1] + 4*T[i+1,j] + 2*T[i-1,j] + 10*Bi*T_inf)\n",
    "            elif i == 70 and j == 65:\n",
    "                T[i,j] = T[i,j]*(1-tau*(4+10/3*Bi)) + tau/3*(4*T[i,j+1] + 2*T[i,j-1] + 4*T[i-1,j] + 2*T[i+1,j] + 10*Bi*T_inf)\n",
    "            #Nodo 4\n",
    "            elif i == 99 and j == 65:\n",
    "                T[i,j] = T[i,j]*(1-tau*(4+4*Bi)) + 2*tau*(T[i,j+1] + T[i-1,j] + 2*Bi*T_inf)\n",
    "            elif i == 99 and j == 85:\n",
    "                T[i,j] = T[i,j]*(1-tau*(4+4*Bi)) + 2*tau*(T[i,j-1] + T[i-1,j] + 2*Bi*T_inf)\n",
    "            #Nodo 5\n",
    "            elif i == 99 and (65 < j < 85):\n",
    "                T[i,j] = T[i,j]*(1-tau*(4+2*Bi)) + tau*(T[i,j-1] + T[i,j+1] + 2*T[i-1,j] + 2*Bi*T_inf)\n",
    "            #Nodo 6\n",
    "            elif 20 < i < 99 and 65 < j < 85:\n",
    "                T[i,j] = T[i,j]*(1-tau*(4+2*Bi)) + tau*(T[i,j+1] + T[i,j-1] + T[i+1,j] + T[i-1,j] + 2*Bi*T_inf)\n",
    "            elif 50 < i < 70 and j == 65:\n",
    "                T[i,j] = T[i,j]*(1-tau*(4+2*Bi)) + tau*(T[i,j+1] + T[i,j-1] + T[i+1,j] + T[i-1,j] + 2*Bi*T_inf)"
   ]
  },
  {
   "cell_type": "code",
   "execution_count": 18,
   "metadata": {},
   "outputs": [
    {
     "data": {
      "image/png": "[encoded data removed]",
      "text/plain": [
       "<Figure size 432x288 with 2 Axes>"
      ]
     },
     "metadata": {
      "needs_background": "light"
     },
     "output_type": "display_data"
    }
   ],
   "source": [
    "g = sns.heatmap(T, cmap='coolwarm');\n",
    "g.set(yticklabels=[])\n",
    "g.set(xticklabels=[])\n",
    "plt.savefig('simulation_steel_heating.png')"
   ]
  },
  {
   "cell_type": "code",
   "execution_count": 19,
   "metadata": {},
   "outputs": [
    {
     "data": {
      "image/png": "[encoded data removed]",
      "text/plain": [
       "<Figure size 432x288 with 1 Axes>"
      ]
     },
     "metadata": {
      "needs_background": "light"
     },
     "output_type": "display_data"
    }
   ],
   "source": [
    "plt.figure().suptitle('Calentamiento aleta de acero')\n",
    "plt.plot(time_S_H, Temp_S_H)\n",
    "plt.xlabel('Tiempo [s]')\n",
    "plt.ylabel('Temperatura [C]')\n",
    "plt.savefig('Temp_vs_time_steel_heating.png')"
   ]
  },
  {
   "cell_type": "markdown",
   "metadata": {},
   "source": [
    "## Enfriamiento de aleta de acero"
   ]
  },
  {
   "cell_type": "code",
   "execution_count": 22,
   "metadata": {},
   "outputs": [],
   "source": [
    "import numpy as np\n",
    "import matplotlib.pyplot as plt\n",
    "import seaborn as sns\n",
    "\n",
    "T = np.zeros((100,100))\n",
    "T.fill(20)\n",
    "\n",
    "T_inf = 20\n",
    "k = 63.9 #W/mK\n",
    "rho = 7832 #kg/m3\n",
    "Cp = 434 #J/kgk\n",
    "l = 0.001 #m\n",
    "dt = 0.0021#s\n",
    "alpha = k/(rho*Cp)\n",
    "tau = alpha*dt/(l**2)\n",
    "h = 25 #W/m2K\n",
    "Bi = h*l/k\n",
    "\n",
    "#Condiciones iniciales 100C\n",
    "for i in range(20,100):\n",
    "    for j in range(15,36):\n",
    "        T[i, j] = 100\n",
    "for i in range(50,70):\n",
    "    for j in range(35,66):\n",
    "        T[i, j] = 100\n",
    "for i in range(20,100):\n",
    "    for j in range(65,86):\n",
    "        T[i, j] = 100\n",
    "\n",
    "it = int(150000)   \n",
    "time_S_C = np.zeros(it)\n",
    "Temp_S_C = np.zeros(it)\n",
    "\n",
    "for t in range(it):\n",
    "    \n",
    "    mean = np.mean(T[50:71 , 36:65])\n",
    "    time_S_C[t] = t*dt\n",
    "    Temp_S_C[t] = mean\n",
    "    \n",
    "    \n",
    "    #Columna 1      \n",
    "    for i in range(20,100):\n",
    "        for j in range(15,36):\n",
    "            #Nodo 1\n",
    "            if i == 20 and j == 15:\n",
    "                T[i,j] = T[i,j]*(1-tau*(4+6*Bi)) + 2*tau*(T[i,j+1] + T[i+1,j] + 3*Bi*T_inf)\n",
    "            elif (i == 20 and j == 35):\n",
    "                T[i,j] = T[i,j]*(1-tau*(4+6*Bi)) + 2*tau*(T[i,j-1] + T[i+1,j] + 3*Bi*T_inf)\n",
    "            #Nodo 2\n",
    "            elif i == 20 and (15 < j < 35):\n",
    "                T[i,j] = T[i,j]*(1-tau*(4+4*Bi)) + tau*(T[i,j-1] + T[i,j+1] + 2*T[i+1,j] + 4*Bi*T_inf)\n",
    "            elif 20 < i < 99 and j == 15:\n",
    "                T[i,j] = T[i,j]*(1-tau*(4+4*Bi)) + tau*(T[i+1,j] + T[i-1,j] + 2*T[i,j+1] + 4*Bi*T_inf)\n",
    "            elif (20 < i < 50 or 70 < i < 99) and j == 35:\n",
    "                T[i,j] = T[i,j]*(1-tau*(4+4*Bi)) + tau*(T[i+1,j] + T[i-1,j] + 2*T[i,j-1] + 4*Bi*T_inf)\n",
    "            #Nodo 3 izquierda\n",
    "            elif i == 50 and j == 35:\n",
    "                T[i,j] = T[i,j]*(1-tau*(4+10/3*Bi)) + tau/3*(4*T[i,j-1] + 2*T[i,j+1] + 4*T[i+1,j] + 2*T[i-1,j] + 10*Bi*T_inf)\n",
    "            elif i == 70 and j == 35:\n",
    "                T[i,j] = T[i,j]*(1-tau*(4+10/3*Bi)) + tau/3*(4*T[i,j-1] + 2*T[i,j+1] + 4*T[i-1,j] + 2*T[i+1,j] + 10*Bi*T_inf)\n",
    "            #Nodo 4\n",
    "            elif i == 99 and j == 15:\n",
    "                T[i,j] = T[i,j]*(1-tau*(4+4*Bi)) + 2*tau*(T[i,j+1] + T[i-1,j] + 2*Bi*T_inf)\n",
    "            elif i == 99 and j == 35:\n",
    "                T[i,j] = T[i,j]*(1-tau*(4+4*Bi)) + 2*tau*(T[i,j-1] + T[i-1,j] + 2*Bi*T_inf)\n",
    "            #Nodo 5\n",
    "            elif i == 99 and (15 < j < 35):\n",
    "                T[i,j] = T[i,j]*(1-tau*(4+2*Bi)) + tau*(T[i,j-1] + T[i,j+1] + 2*T[i-1,j] + 2*Bi*T_inf)\n",
    "            #Nodo 6\n",
    "            elif 20 < i < 99 and 15 < j < 35:\n",
    "                T[i,j] = T[i,j]*(1-tau*(4+2*Bi)) + tau*(T[i,j+1] + T[i,j-1] + T[i+1,j] + T[i-1,j] + 2*Bi*T_inf)\n",
    "            elif 50 < i < 70 and j == 35:\n",
    "                T[i,j] = T[i,j]*(1-tau*(4+2*Bi)) + tau*(T[i,j+1] + T[i,j-1] + T[i+1,j] + T[i-1,j] + 2*Bi*T_inf)\n",
    "            \n",
    "    #Barra horizontal\n",
    "    for i in range(50,71):\n",
    "        for j in range(36,65):\n",
    "            #Nodo 2\n",
    "            if i == 50 and (36 <= j <= 64):\n",
    "                T[i,j] = T[i,j]*(1-tau*(4+4*Bi)) + tau*(T[i,j-1] + T[i,j+1] + 2*T[i+1,j] + 4*Bi*T_inf)\n",
    "            elif i == 70 and (36 <= j <= 64):\n",
    "                T[i,j] = T[i,j]*(1-tau*(4+4*Bi)) + tau*(T[i,j-1] + T[i,j+1] + 2*T[i-1,j] + 4*Bi*T_inf)\n",
    "            #Nodo 6\n",
    "            else:\n",
    "                T[i,j] = T[i,j]*(1-tau*(4+2*Bi)) + tau*(T[i,j+1] + T[i,j-1] + T[i+1,j] + T[i-1,j] + 2*Bi*T_inf)\n",
    "\n",
    "    #Columna 2\n",
    "    for i in range(20,100):\n",
    "        for j in range(65,86):\n",
    "            #Nodo 1\n",
    "            if (i == 20 and j == 65):\n",
    "                T[i,j] = T[i,j]*(1-tau*(4+6*Bi)) + 2*tau*(T[i,j+1]+T[i+1,j]+3*Bi*T_inf)\n",
    "            elif (i == 20 and j == 85):\n",
    "                T[i,j] = T[i,j]*(1-tau*(4+6*Bi)) + 2*tau*(T[i,j-1]+T[i+1,j]+3*Bi*T_inf)\n",
    "            #Nodo 2\n",
    "            elif i == 20 and (65 < j < 85):\n",
    "                T[i,j] = T[i,j]*(1-tau*(4+4*Bi)) + tau*(T[i,j-1] + T[i,j+1] + 2*T[i+1,j] + 4*Bi*T_inf)\n",
    "            elif 20 < i < 99 and j == 85:\n",
    "                T[i,j] = T[i,j]*(1-tau*(4+4*Bi)) + tau*(T[i+1,j] + T[i-1,j] + 2*T[i,j-1] + 4*Bi*T_inf)\n",
    "            elif (20 < i < 50 or 70 < i < 99) and j == 65:\n",
    "                T[i,j] = T[i,j]*(1-tau*(4+4*Bi)) + tau*(T[i+1,j] + T[i-1,j] + 2*T[i,j+1] + 4*Bi*T_inf)\n",
    "            #Nodo 3 derecha\n",
    "            elif i == 50 and j == 65:\n",
    "                T[i,j] = T[i,j]*(1-tau*(4+10/3*Bi)) + tau/3*(4*T[i,j+1] + 2*T[i,j-1] + 4*T[i+1,j] + 2*T[i-1,j] + 10*Bi*T_inf)\n",
    "            elif i == 70 and j == 65:\n",
    "                T[i,j] = T[i,j]*(1-tau*(4+10/3*Bi)) + tau/3*(4*T[i,j+1] + 2*T[i,j-1] + 4*T[i-1,j] + 2*T[i+1,j] + 10*Bi*T_inf)\n",
    "            #Nodo 4\n",
    "            elif i == 99 and j == 65:\n",
    "                T[i,j] = T[i,j]*(1-tau*(4+4*Bi)) + 2*tau*(T[i,j+1] + T[i-1,j] + 2*Bi*T_inf)\n",
    "            elif i == 99 and j == 85:\n",
    "                T[i,j] = T[i,j]*(1-tau*(4+4*Bi)) + 2*tau*(T[i,j-1] + T[i-1,j] + 2*Bi*T_inf)\n",
    "            #Nodo 5\n",
    "            elif i == 99 and (65 < j < 85):\n",
    "                T[i,j] = T[i,j]*(1-tau*(4+2*Bi)) + tau*(T[i,j-1] + T[i,j+1] + 2*T[i-1,j] + 2*Bi*T_inf)\n",
    "            #Nodo 6\n",
    "            elif 20 < i < 99 and 65 < j < 85:\n",
    "                T[i,j] = T[i,j]*(1-tau*(4+2*Bi)) + tau*(T[i,j+1] + T[i,j-1] + T[i+1,j] + T[i-1,j] + 2*Bi*T_inf)\n",
    "            elif 50 < i < 70 and j == 65:\n",
    "                T[i,j] = T[i,j]*(1-tau*(4+2*Bi)) + tau*(T[i,j+1] + T[i,j-1] + T[i+1,j] + T[i-1,j] + 2*Bi*T_inf)"
   ]
  },
  {
   "cell_type": "code",
   "execution_count": 23,
   "metadata": {},
   "outputs": [
    {
     "data": {
      "image/png": "[encoded data removed]",
      "text/plain": [
       "<Figure size 432x288 with 2 Axes>"
      ]
     },
     "metadata": {
      "needs_background": "light"
     },
     "output_type": "display_data"
    }
   ],
   "source": [
    "g = sns.heatmap(T, cmap='coolwarm');\n",
    "g.set(yticklabels=[])\n",
    "g.set(xticklabels=[])\n",
    "plt.savefig('simulation_steel_cooling.png')"
   ]
  },
  {
   "cell_type": "code",
   "execution_count": 24,
   "metadata": {},
   "outputs": [
    {
     "data": {
      "image/png": "[encoded data removed]",
      "text/plain": [
       "<Figure size 432x288 with 1 Axes>"
      ]
     },
     "metadata": {
      "needs_background": "light"
     },
     "output_type": "display_data"
    }
   ],
   "source": [
    "plt.figure().suptitle('Enfriamiento aleta de acero')\n",
    "plt.plot(time_S_C, Temp_S_C)\n",
    "plt.xlabel('Tiempo [s]')\n",
    "plt.ylabel('Temperatura [C]')\n",
    "plt.savefig('Temp_vs_time_steel_cooling.png')"
   ]
  },
  {
   "cell_type": "code",
   "execution_count": 33,
   "metadata": {},
   "outputs": [
    {
     "name": "stderr",
     "output_type": "stream",
     "text": [
      "C:\\Users\\ASUS\\anaconda3\\lib\\site-packages\\ipykernel_launcher.py:8: UserWarning: Creating legend with loc=\"best\" can be slow with large amounts of data.\n",
      "  \n",
      "C:\\Users\\ASUS\\anaconda3\\lib\\site-packages\\IPython\\core\\pylabtools.py:132: UserWarning: Creating legend with loc=\"best\" can be slow with large amounts of data.\n",
      "  fig.canvas.print_figure(bytes_io, **kw)\n"
     ]
    },
    {
     "data": {
      "image/png": "[encoded data removed]",
      "text/plain": [
       "<Figure size 432x288 with 1 Axes>"
      ]
     },
     "metadata": {
      "needs_background": "light"
     },
     "output_type": "display_data"
    }
   ],
   "source": [
    "plt.plot(time_S_C, Temp_S_C, label = \"Acero\")\n",
    "plt.plot(time_A_C, Temp_A_C, label = \"Aluminio\")\n",
    "plt.plot(time_C_C, Temp_C_C, label = \"Aluminio\")\n",
    "plt.xlabel('Tiempo [s]')\n",
    "plt.ylabel('Temperatura [C]')\n",
    "plt.title('Comparativa de materiales en enfriamiento')\n",
    "plt.legend()\n",
    "plt.savefig('comparative_cooling.png')\n",
    "plt.show()\n"
   ]
  },
  {
   "cell_type": "code",
   "execution_count": 34,
   "metadata": {},
   "outputs": [
    {
     "name": "stderr",
     "output_type": "stream",
     "text": [
      "C:\\Users\\ASUS\\anaconda3\\lib\\site-packages\\ipykernel_launcher.py:8: UserWarning: Creating legend with loc=\"best\" can be slow with large amounts of data.\n",
      "  \n",
      "C:\\Users\\ASUS\\anaconda3\\lib\\site-packages\\IPython\\core\\pylabtools.py:132: UserWarning: Creating legend with loc=\"best\" can be slow with large amounts of data.\n",
      "  fig.canvas.print_figure(bytes_io, **kw)\n"
     ]
    },
    {
     "data": {
      "image/png": "[encoded data removed]",
      "text/plain": [
       "<Figure size 432x288 with 1 Axes>"
      ]
     },
     "metadata": {
      "needs_background": "light"
     },
     "output_type": "display_data"
    }
   ],
   "source": [
    "plt.plot(time_S_H, Temp_S_H, label = \"Acero\")\n",
    "plt.plot(time_A_H, Temp_A_H, label = \"Aluminio\")\n",
    "plt.plot(time_C_H, Temp_C_H, label = \"Aluminio\")\n",
    "plt.xlabel('Tiempo [s]')\n",
    "plt.ylabel('Temperatura [C]')\n",
    "plt.title('Comparativa de materiales en calentamiento')\n",
    "plt.legend()\n",
    "plt.savefig('comparative_heating.png')\n",
    "plt.show()\n"
   ]
  }
 ],
 "metadata": {
  "kernelspec": {
   "display_name": "Python 3",
   "language": "python",
   "name": "python3"
  },
  "language_info": {
   "codemirror_mode": {
    "name": "ipython",
    "version": 3
   },
   "file_extension": ".py",
   "mimetype": "text/x-python",
   "name": "python",
   "nbconvert_exporter": "python",
   "pygments_lexer": "ipython3",
   "version": "3.7.6"
  }
 },
 "nbformat": 4,
 "nbformat_minor": 4
}
