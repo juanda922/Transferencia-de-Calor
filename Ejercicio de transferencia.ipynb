{
 "cells": [
  {
   "cell_type": "markdown",
   "metadata": {},
   "source": [
    "# Tarea Clase 2\n",
    "\n",
    "Ejercicio 1.75"
   ]
  },
  {
   "cell_type": "code",
   "execution_count": null,
   "metadata": {},
   "outputs": [],
   "source": [
    "#import scipy.constants\n",
    "import matplotlib.pyplot as plt\n",
    "import numpy as np\n",
    "import math\n",
    "#En este código se calcula la variación del derretimiento de hielo en función del espesor\n",
    "# Datos\n",
    "T_1 = 0 #[C]\n",
    "T_2 = 5 #[C]\n",
    "d = 0.2\n",
    "\"Propiedades\"\n",
    "h_f_agua = 333.7 #[kJ/kg]\n",
    "k1 = 83.51\n",
    "\n",
    "\"Análisis\"\n",
    "A = math.pi*d**2\n",
    "e = [i/10000 for i in range(10,101)]\n",
    "e = np.array(e)\n",
    "m_dot_hielo = []\n",
    "Q_dot_hielo = []\n",
    "for i in range(10,101):\n",
    "    m_dot_hielo = k1*A*(T_2-T_1)/(e*h_f_agua*1000)\n",
    "    \n",
    "\n",
    "plt.plot(e, m_dot_hielo)\n",
    "plt.xlabel('$Espesor \\quad [m]$')\n",
    "plt.ylabel('$\\dot{m}_{hielo} \\quad [kg/s]$')\n",
    "plt.title('Tasa de derretimiento de hielo')\n",
    "plt.xticks([0, 0.001, 0.002, 0.003, 0.004, 0.005, 0.006, 0.007, 0.008, 0.009, 0.01])\n",
    "plt.show()\n",
    "plt.savefig('Tasa de derretimiento')"
   ]
  },
  {
   "cell_type": "markdown",
   "metadata": {},
   "source": [
    "Ejercicio 1-97\n",
    "\n",
    "![](Captura.png)\n",
    "\n",
    "Suposiciones:\n",
    "1. Existen condiciones estables\n",
    "2. K es constante a lo largo del material\n",
    "3. $\\alpha = \\epsilon = 0.8$\n",
    "\n",
    "$\\dot{Q}_{cond}$ está relacionado con $T_{superficial}$ \n",
    "<br>\n",
    "$\\dot{q}_{cond}+\\alpha\\dot{q}_{solar}=\\dot{q}_{conv}+\\dot{q}_{rad}$ (1)\n",
    "<br>\n",
    "$\\dot{q}_{cond}=k\\frac{T_{out}-T_{in}}{L}$ (2)\n",
    "<br>\n",
    "$\\dot{q}_{conv}=h(T_{out}-T_{alr})$ (3)\n",
    "<br>\n",
    "$\\dot{q}_{rad}=\\epsilon \\sigma (T_{out}^4-T_{alr}^4)$ (4)\n",
    "<br>\n",
    "$\\dot{q}_{solar}=150 [\\frac{W}{m^2}]$"
   ]
  },
  {
   "cell_type": "code",
   "execution_count": 4,
   "metadata": {},
   "outputs": [
    {
     "data": {
      "text/plain": [
       "0.9605120838588235"
      ]
     },
     "execution_count": 4,
     "metadata": {},
     "output_type": "execute_result"
    }
   ],
   "source": [
    "#from scipy.constants import k\n",
    "epsilon = 0.8\n",
    "alpha = 0.8\n",
    "#sigma = scipy.constants.k\n",
    "sigma = 5.67*10**(-8)\n",
    "espesor = 0.25 #m\n",
    "h = 8 #W/m2\n",
    "T_out = 317\n",
    "T_in = 300\n",
    "T_alr = 313\n",
    "q_dot_rad = epsilon*sigma*(T_out**4-T_alr**4)\n",
    "q_dot_conv = h*(T_out-T_alr)\n",
    "q_dot_sol = 150\n",
    "q_dot_cond = q_dot_rad + q_dot_conv - q_dot_sol*alpha\n",
    "k_conduccion = -1*(q_dot_cond*espesor)/(T_out-T_in)\n",
    "k_conduccion"
   ]
  },
  {
   "cell_type": "markdown",
   "metadata": {},
   "source": [
    "# Respuesta:\n",
    "El valor de la conductividad térmica del material es de 0.96 W/mK. Este valor se asemeja al valor del $\\textbf{concreto}$ (0.81 W/mK)"
   ]
  }
 ],
 "metadata": {
  "kernelspec": {
   "display_name": "Python 3",
   "language": "python",
   "name": "python3"
  },
  "language_info": {
   "codemirror_mode": {
    "name": "ipython",
    "version": 3
   },
   "file_extension": ".py",
   "mimetype": "text/x-python",
   "name": "python",
   "nbconvert_exporter": "python",
   "pygments_lexer": "ipython3",
   "version": "3.7.6"
  }
 },
 "nbformat": 4,
 "nbformat_minor": 4
}
